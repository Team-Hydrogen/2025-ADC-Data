{
 "cells": [
  {
   "cell_type": "markdown",
   "metadata": {},
   "source": [
    "Pt = Satellite Transmitter Power (in Decibel Watts, dBw) = 10 dBW\n",
    "Gt = Satellite Antenna Gain (in Decibel Isotopic, dBi) = 9 dBi\n",
    "Losses (in Decibels, db) = 19.43 db\n",
    "ηR = Ground Station Antenna efficiency = 0.55\n",
    "λ = c/f = Speed of Light/Carrier Frequency (in meters, m) =\n",
    "0.136363636 m\n",
    "kb = Boltzmann Constant (in Decibel Watts per degree Kelvin per\n",
    "Hertz, dBW/K/Hz)= -228.6 dBW/K/Hz\n",
    "TS = System Noise Temperature (in degrees Kelvin, K) = 22 K\n",
    "\n",
    "TODO: dr = Ground Station Antenna Diameter (in meters, m)\n",
    "TODO: R = Slant Range (in kilometers, km)\n",
    "\n",
    "DSS24 = 34m\n",
    "DSS34 = 34m\n",
    "DSS54 = 34m\n",
    "WPSA = 12m"
   ]
  },
  {
   "attachments": {
    "image.png": {
     "image/png": "[encoded data removed]"
    }
   },
   "cell_type": "markdown",
   "metadata": {},
   "source": [
    "![image.png](attachment:image.png)"
   ]
  },
  {
   "cell_type": "code",
   "execution_count": 21,
   "metadata": {},
   "outputs": [],
   "source": [
    "pt = 10\n",
    "gt = 9\n",
    "losses = 19.43\n",
    "nr = 0.55\n",
    "l = 0.136363636\n",
    "kb = -228.6\n",
    "ts = 22\n",
    "dr = [34,34,34,12]"
   ]
  },
  {
   "cell_type": "code",
   "execution_count": 22,
   "metadata": {},
   "outputs": [
    {
     "name": "stdout",
     "output_type": "stream",
     "text": [
      "(51924, 5) (12981, 16)\n"
     ]
    }
   ],
   "source": [
    "import numpy as np\n",
    "import pandas as pd\n",
    "import matplotlib.pyplot as plt\n",
    "\n",
    "antennadf = pd.read_csv(\"./data/antenna_plot.csv\", index_col=False)\n",
    "satelitedf = pd.read_csv(\"./data/starting_data/hsdata.csv\", index_col=False)\n",
    "print(antennadf.shape, satelitedf.shape)"
   ]
  },
  {
   "cell_type": "code",
   "execution_count": 23,
   "metadata": {},
   "outputs": [
    {
     "data": {
      "text/html": [
       "<div>\n",
       "<style scoped>\n",
       "    .dataframe tbody tr th:only-of-type {\n",
       "        vertical-align: middle;\n",
       "    }\n",
       "\n",
       "    .dataframe tbody tr th {\n",
       "        vertical-align: top;\n",
       "    }\n",
       "\n",
       "    .dataframe thead th {\n",
       "        text-align: right;\n",
       "    }\n",
       "</style>\n",
       "<table border=\"1\" class=\"dataframe\">\n",
       "  <thead>\n",
       "    <tr style=\"text-align: right;\">\n",
       "      <th></th>\n",
       "      <th>Antenna</th>\n",
       "      <th>Time (sec)</th>\n",
       "      <th>X</th>\n",
       "      <th>Y</th>\n",
       "      <th>Z</th>\n",
       "    </tr>\n",
       "  </thead>\n",
       "  <tbody>\n",
       "    <tr>\n",
       "      <th>0</th>\n",
       "      <td>DSS 24</td>\n",
       "      <td>0.000000</td>\n",
       "      <td>6132.732566</td>\n",
       "      <td>5437.728124</td>\n",
       "      <td>3689.829568</td>\n",
       "    </tr>\n",
       "    <tr>\n",
       "      <th>1</th>\n",
       "      <td>DSS 24</td>\n",
       "      <td>494.188833</td>\n",
       "      <td>5950.505743</td>\n",
       "      <td>5584.040250</td>\n",
       "      <td>3768.834568</td>\n",
       "    </tr>\n",
       "    <tr>\n",
       "      <th>2</th>\n",
       "      <td>DSS 24</td>\n",
       "      <td>554.188833</td>\n",
       "      <td>5928.055410</td>\n",
       "      <td>5601.314239</td>\n",
       "      <td>3778.567979</td>\n",
       "    </tr>\n",
       "    <tr>\n",
       "      <th>3</th>\n",
       "      <td>DSS 24</td>\n",
       "      <td>614.188833</td>\n",
       "      <td>5905.535950</td>\n",
       "      <td>5618.481001</td>\n",
       "      <td>3788.331360</td>\n",
       "    </tr>\n",
       "    <tr>\n",
       "      <th>4</th>\n",
       "      <td>DSS 24</td>\n",
       "      <td>674.188833</td>\n",
       "      <td>5882.947795</td>\n",
       "      <td>5635.540210</td>\n",
       "      <td>3798.124525</td>\n",
       "    </tr>\n",
       "  </tbody>\n",
       "</table>\n",
       "</div>"
      ],
      "text/plain": [
       "  Antenna  Time (sec)            X            Y            Z\n",
       "0  DSS 24    0.000000  6132.732566  5437.728124  3689.829568\n",
       "1  DSS 24  494.188833  5950.505743  5584.040250  3768.834568\n",
       "2  DSS 24  554.188833  5928.055410  5601.314239  3778.567979\n",
       "3  DSS 24  614.188833  5905.535950  5618.481001  3788.331360\n",
       "4  DSS 24  674.188833  5882.947795  5635.540210  3798.124525"
      ]
     },
     "execution_count": 23,
     "metadata": {},
     "output_type": "execute_result"
    }
   ],
   "source": [
    "antennadf.head()"
   ]
  },
  {
   "cell_type": "code",
   "execution_count": 24,
   "metadata": {},
   "outputs": [
    {
     "data": {
      "text/html": [
       "<div>\n",
       "<style scoped>\n",
       "    .dataframe tbody tr th:only-of-type {\n",
       "        vertical-align: middle;\n",
       "    }\n",
       "\n",
       "    .dataframe tbody tr th {\n",
       "        vertical-align: top;\n",
       "    }\n",
       "\n",
       "    .dataframe thead th {\n",
       "        text-align: right;\n",
       "    }\n",
       "</style>\n",
       "<table border=\"1\" class=\"dataframe\">\n",
       "  <thead>\n",
       "    <tr style=\"text-align: right;\">\n",
       "      <th></th>\n",
       "      <th>MISSION ELAPSED TIME (mins)</th>\n",
       "      <th>Rx(km)[J2000-EARTH]</th>\n",
       "      <th>Ry(km)[J2000-EARTH]</th>\n",
       "      <th>Rz(km)[J2000-EARTH]</th>\n",
       "      <th>Vx(km/s)[J2000-EARTH]</th>\n",
       "      <th>Vy(km/s)[J2000-EARTH]</th>\n",
       "      <th>Vz(km/s)[J2000-EARTH]</th>\n",
       "      <th>MASS (kg)</th>\n",
       "      <th>WPSA</th>\n",
       "      <th>WPSA Range</th>\n",
       "      <th>DS54</th>\n",
       "      <th>DS54 Range</th>\n",
       "      <th>DS24</th>\n",
       "      <th>Range DS24</th>\n",
       "      <th>DS34</th>\n",
       "      <th>Range DS34</th>\n",
       "    </tr>\n",
       "  </thead>\n",
       "  <tbody>\n",
       "    <tr>\n",
       "      <th>0</th>\n",
       "      <td>0.000000</td>\n",
       "      <td>3690.0</td>\n",
       "      <td>4220.0</td>\n",
       "      <td>3030.0</td>\n",
       "      <td>-0.308</td>\n",
       "      <td>0.269</td>\n",
       "      <td>0.0007</td>\n",
       "      <td>60129.73972</td>\n",
       "      <td>1</td>\n",
       "      <td>1139.486313</td>\n",
       "      <td>0</td>\n",
       "      <td>NaN</td>\n",
       "      <td>0</td>\n",
       "      <td>NaN</td>\n",
       "      <td>0</td>\n",
       "      <td>NaN</td>\n",
       "    </tr>\n",
       "    <tr>\n",
       "      <th>1</th>\n",
       "      <td>8.236481</td>\n",
       "      <td>2320.0</td>\n",
       "      <td>4870.0</td>\n",
       "      <td>3700.0</td>\n",
       "      <td>-7.470</td>\n",
       "      <td>2.140</td>\n",
       "      <td>2.8900</td>\n",
       "      <td>60129.73972</td>\n",
       "      <td>0</td>\n",
       "      <td>NaN</td>\n",
       "      <td>0</td>\n",
       "      <td>NaN</td>\n",
       "      <td>0</td>\n",
       "      <td>NaN</td>\n",
       "      <td>0</td>\n",
       "      <td>NaN</td>\n",
       "    </tr>\n",
       "    <tr>\n",
       "      <th>2</th>\n",
       "      <td>9.236481</td>\n",
       "      <td>1870.0</td>\n",
       "      <td>4980.0</td>\n",
       "      <td>3860.0</td>\n",
       "      <td>-7.650</td>\n",
       "      <td>1.720</td>\n",
       "      <td>2.5700</td>\n",
       "      <td>60129.73972</td>\n",
       "      <td>0</td>\n",
       "      <td>NaN</td>\n",
       "      <td>1</td>\n",
       "      <td>3804.920572</td>\n",
       "      <td>0</td>\n",
       "      <td>NaN</td>\n",
       "      <td>0</td>\n",
       "      <td>NaN</td>\n",
       "    </tr>\n",
       "    <tr>\n",
       "      <th>3</th>\n",
       "      <td>10.236481</td>\n",
       "      <td>1400.0</td>\n",
       "      <td>5070.0</td>\n",
       "      <td>4010.0</td>\n",
       "      <td>-7.790</td>\n",
       "      <td>1.310</td>\n",
       "      <td>2.2400</td>\n",
       "      <td>60129.73972</td>\n",
       "      <td>0</td>\n",
       "      <td>NaN</td>\n",
       "      <td>1</td>\n",
       "      <td>3804.920572</td>\n",
       "      <td>0</td>\n",
       "      <td>NaN</td>\n",
       "      <td>0</td>\n",
       "      <td>NaN</td>\n",
       "    </tr>\n",
       "    <tr>\n",
       "      <th>4</th>\n",
       "      <td>11.236481</td>\n",
       "      <td>932.0</td>\n",
       "      <td>5140.0</td>\n",
       "      <td>4130.0</td>\n",
       "      <td>-7.880</td>\n",
       "      <td>0.888</td>\n",
       "      <td>1.9100</td>\n",
       "      <td>60129.73972</td>\n",
       "      <td>0</td>\n",
       "      <td>NaN</td>\n",
       "      <td>1</td>\n",
       "      <td>3804.920572</td>\n",
       "      <td>0</td>\n",
       "      <td>NaN</td>\n",
       "      <td>0</td>\n",
       "      <td>NaN</td>\n",
       "    </tr>\n",
       "  </tbody>\n",
       "</table>\n",
       "</div>"
      ],
      "text/plain": [
       "   MISSION ELAPSED TIME (mins)  Rx(km)[J2000-EARTH]  Ry(km)[J2000-EARTH]  \\\n",
       "0                     0.000000               3690.0               4220.0   \n",
       "1                     8.236481               2320.0               4870.0   \n",
       "2                     9.236481               1870.0               4980.0   \n",
       "3                    10.236481               1400.0               5070.0   \n",
       "4                    11.236481                932.0               5140.0   \n",
       "\n",
       "   Rz(km)[J2000-EARTH]  Vx(km/s)[J2000-EARTH]  Vy(km/s)[J2000-EARTH]  \\\n",
       "0               3030.0                 -0.308                  0.269   \n",
       "1               3700.0                 -7.470                  2.140   \n",
       "2               3860.0                 -7.650                  1.720   \n",
       "3               4010.0                 -7.790                  1.310   \n",
       "4               4130.0                 -7.880                  0.888   \n",
       "\n",
       "   Vz(km/s)[J2000-EARTH]    MASS (kg)  WPSA   WPSA Range  DS54   DS54 Range  \\\n",
       "0                 0.0007  60129.73972     1  1139.486313     0          NaN   \n",
       "1                 2.8900  60129.73972     0          NaN     0          NaN   \n",
       "2                 2.5700  60129.73972     0          NaN     1  3804.920572   \n",
       "3                 2.2400  60129.73972     0          NaN     1  3804.920572   \n",
       "4                 1.9100  60129.73972     0          NaN     1  3804.920572   \n",
       "\n",
       "   DS24  Range DS24  DS34  Range DS34  \n",
       "0     0         NaN     0         NaN  \n",
       "1     0         NaN     0         NaN  \n",
       "2     0         NaN     0         NaN  \n",
       "3     0         NaN     0         NaN  \n",
       "4     0         NaN     0         NaN  "
      ]
     },
     "execution_count": 24,
     "metadata": {},
     "output_type": "execute_result"
    }
   ],
   "source": [
    "satelitedf.head()"
   ]
  },
  {
   "cell_type": "markdown",
   "metadata": {},
   "source": [
    "![image.png](attachment:image.png)"
   ]
  },
  {
   "cell_type": "code",
   "execution_count": 30,
   "metadata": {},
   "outputs": [],
   "source": [
    "linkbudget = [[] for i in range(4)]\n",
    "elevation_angles_tf = [[] for i in range(4)]\n",
    "sr = []\n",
    "for i in range(antennadf.shape[0]):\n",
    "    slantrange = 0\n",
    "    if (int(i/12981) == 0):\n",
    "        if (satelitedf[\"DS24\"].iloc[i%12981] == 1):\n",
    "            slantrange = satelitedf[\"Range DS24\"].iloc[i%12981]\n",
    "        elevation_angles_tf[int(i/12981)].append(satelitedf[\"DS24\"].iloc[i%12981])\n",
    "    elif (int(i/12981) == 1 and satelitedf[\"DS34\"].iloc[i%12981] == 1):\n",
    "        if (satelitedf[\"DS34\"].iloc[i%12981] == 1):\n",
    "            slantrange = satelitedf[\"Range DS34\"].iloc[i%12981]\n",
    "        elevation_angles_tf[int(i/12981)].append(satelitedf[\"DS34\"].iloc[i%12981])\n",
    "    elif (int(i/12981) == 2 and satelitedf[\"DS54\"].iloc[i%12981] == 1):\n",
    "        if (satelitedf[\"DS54\"].iloc[i%12981] == 1):\n",
    "            slantrange = satelitedf[\"DS54 Range\"].iloc[i%12981]\n",
    "        elevation_angles_tf[int(i/12981)].append(satelitedf[\"DS54\"].iloc[i%12981])\n",
    "    else:\n",
    "        if (satelitedf[\"WPSA\"].iloc[i%12981] == 1):\n",
    "            slantrange = satelitedf[\"WPSA Range\"].iloc[i%12981]\n",
    "        elevation_angles_tf[int(i/12981)].append(satelitedf[\"WPSA\"].iloc[i%12981])\n",
    "    \n",
    "    if (slantrange != 0):\n",
    "        toppart = pt+gt-losses+10*np.log10(nr*((np.pi*dr[int(i/12981)]/l)**2))-20*np.log10(4000*np.pi*slantrange/l)-kb-10*np.log10(ts)\n",
    "        exponent = (toppart/10)-3\n",
    "        linkbudget[int(i/12981)].append(10**exponent)\n",
    "    else:\n",
    "        linkbudget[int(i/12981)].append(0)\n",
    "    sr.append(slantrange)\n",
    "\n",
    "\n",
    "# for i in range(len (linkbudget)):\n",
    "#     if linkbudget[i] <10000:"
   ]
  },
  {
   "cell_type": "code",
   "execution_count": 35,
   "metadata": {},
   "outputs": [
    {
     "name": "stdout",
     "output_type": "stream",
     "text": [
      "   Time (sec)  Link Budget (kbps)  Line Of Sight (1/0)    Antenna X  \\\n",
      "0    0.000000                 0.0                    0  6132.732566   \n",
      "1  494.188833                 0.0                    0  5950.505743   \n",
      "2  554.188833                 0.0                    0  5928.055410   \n",
      "3  614.188833                 0.0                    0  5905.535950   \n",
      "4  674.188833                 0.0                    0  5882.947795   \n",
      "\n",
      "     Antenna Y    Antenna Z  Satellite X  Satellite Y  Satellite Z  \n",
      "0  5437.728124  3689.829568       3690.0       4220.0       3030.0  \n",
      "1  5584.040250  3768.834568       2320.0       4870.0       3700.0  \n",
      "2  5601.314239  3778.567979       1870.0       4980.0       3860.0  \n",
      "3  5618.481001  3788.331360       1400.0       5070.0       4010.0  \n",
      "4  5635.540210  3798.124525        932.0       5140.0       4130.0  \n",
      "   Time (sec)  Link Budget (kbps)  Line Of Sight (1/0)    Antenna X  \\\n",
      "0    0.000000        9.127664e+07                    1  5505.389605   \n",
      "1  494.188833        0.000000e+00                    0  5301.242926   \n",
      "2  554.188833        0.000000e+00                    0  5275.941051   \n",
      "3  614.188833        0.000000e+00                    0  5250.529040   \n",
      "4  674.188833        0.000000e+00                    0  5225.007379   \n",
      "\n",
      "     Antenna Y    Antenna Z  Satellite X  Satellite Y  Satellite Z  \n",
      "0  6058.278337 -3694.999427       3690.0       4220.0       3030.0  \n",
      "1  6289.285965 -3606.491006       2320.0       4870.0       3700.0  \n",
      "2  6316.782764 -3595.521300       1870.0       4980.0       3860.0  \n",
      "3  6344.158642 -3584.503844       1400.0       5070.0       4010.0  \n",
      "4  6371.413073 -3573.438850        932.0       5140.0       4130.0  \n",
      "   Time (sec)  Link Budget (kbps)  Line Of Sight (1/0)    Antenna X  \\\n",
      "0    0.000000        9.127664e+07                    1  4864.017169   \n",
      "1  494.188833        0.000000e+00                    0  4651.764511   \n",
      "2  554.188833        8.186281e+06                    1  4625.779424   \n",
      "3  614.188833        8.186281e+06                    1  4599.749417   \n",
      "4  674.188833        8.186281e+06                    1  4573.674990   \n",
      "\n",
      "     Antenna Y    Antenna Z  Satellite X  Satellite Y  Satellite Z  \n",
      "0  6370.239083  4136.510119       3690.0       4220.0       3030.0  \n",
      "1  6467.605531  4228.532912       2320.0       4870.0       3700.0  \n",
      "2  6478.857584  4239.798827       1870.0       4980.0       3860.0  \n",
      "3  6489.985612  4251.084216       1400.0       5070.0       4010.0  \n",
      "4  6500.989403  4262.388865        932.0       5140.0       4130.0  \n",
      "   Time (sec)  Link Budget (kbps)  Line Of Sight (1/0)    Antenna X  \\\n",
      "0    0.000000        1.137010e+07                    1  6290.419855   \n",
      "1  494.188833        0.000000e+00                    0  6118.901777   \n",
      "2  554.188833        0.000000e+00                    0  6097.746638   \n",
      "3  614.188833        0.000000e+00                    0  6076.521213   \n",
      "4  674.188833        0.000000e+00                    0  6055.225906   \n",
      "\n",
      "     Antenna Y    Antenna Z  Satellite X  Satellite Y  Satellite Z  \n",
      "0  5112.815740  3920.380631       3690.0       4220.0       3030.0  \n",
      "1  5261.247178  3994.742822       2320.0       4870.0       3700.0  \n",
      "2  5278.807069  4003.914697       1870.0       4980.0       3860.0  \n",
      "3  5296.265908  4013.117046       1400.0       5070.0       4010.0  \n",
      "4  5313.623360  4022.349692        932.0       5140.0       4130.0  \n"
     ]
    }
   ],
   "source": [
    "antennae_names = [\"DSS24\", \"DSS34\", \"DSS54\", \"WPSA\"]\n",
    "\n",
    "for i in range(4):\n",
    "    link_budget_df = pd.DataFrame()\n",
    "    link_budget_df[\"Time (sec)\"] = antennadf[\"Time (sec)\"].iloc[:12981]\n",
    "    link_budget_df[\"Link Budget (kbps)\"] = linkbudget[i]\n",
    "    link_budget_df[\"Line Of Sight (1/0)\"] = elevation_angles_tf[i]\n",
    "    # print(antennadf.iloc[12981*i:12981*(i+1)][\"X\"])\n",
    "    link_budget_df[\"Antenna X\"] = antennadf[\"X\"].to_list()[12981*i:12981*(i+1)]\n",
    "    link_budget_df[\"Antenna Y\"] = antennadf[\"Y\"].to_list()[12981*i:12981*(i+1)]\n",
    "    link_budget_df[\"Antenna Z\"] = antennadf[\"Z\"].to_list()[12981*i:12981*(i+1)]\n",
    "    # link_budget_df[\"Satellite X\"] = X[12981*i:12981*(i+1)]\n",
    "    # link_budget_df[\"Satellite Y\"] = Y[12981*i:12981*(i+1)]\n",
    "    # link_budget_df[\"Satellite Z\"] = Z[12981*i:12981*(i+1)]\n",
    "    link_budget_df[\"Satellite X\"] = satelitedf[\"Rx(km)[J2000-EARTH]\"]\n",
    "    link_budget_df[\"Satellite Y\"] = satelitedf[\"Ry(km)[J2000-EARTH]\"]\n",
    "    link_budget_df[\"Satellite Z\"] = satelitedf[\"Rz(km)[J2000-EARTH]\"]\n",
    "    print(link_budget_df.head())\n",
    "    link_budget_df.to_csv(\"./data/link_budget_\"+antennae_names[i]+\".csv\", index=False)\n",
    "\n",
    "# link_budget_df.head()"
   ]
  },
  {
   "cell_type": "code",
   "execution_count": 27,
   "metadata": {},
   "outputs": [
    {
     "data": {
      "image/png": "[encoded data removed]",
      "text/plain": [
       "<Figure size 640x480 with 1 Axes>"
      ]
     },
     "metadata": {},
     "output_type": "display_data"
    }
   ],
   "source": [
    "# plt.plot(antennadf[\"Time (sec)\"])\n",
    "plt.plot(antennadf[\"Time (sec)\"].iloc[:12981], linkbudget[0], 'ro', label = antennae_names[0])\n",
    "plt.plot(antennadf[\"Time (sec)\"].iloc[:12981], linkbudget[1], 'bo', label = antennae_names[1])\n",
    "plt.plot(antennadf[\"Time (sec)\"].iloc[:12981], linkbudget[2], 'yo', label = antennae_names[2])\n",
    "plt.plot(antennadf[\"Time (sec)\"].iloc[:12981], linkbudget[3], 'go', label = antennae_names[3])\n",
    "plt.legend()\n",
    "plt.show()"
   ]
  },
  {
   "cell_type": "code",
   "execution_count": 31,
   "metadata": {},
   "outputs": [
    {
     "data": {
      "image/png": "[encoded data removed]",
      "text/plain": [
       "<Figure size 640x480 with 1 Axes>"
      ]
     },
     "metadata": {},
     "output_type": "display_data"
    }
   ],
   "source": [
    "plt.plot(sr[:12981], linkbudget[0], 'ro', label = antennae_names[0])\n",
    "plt.plot(sr[12981:12981*2], linkbudget[1], 'bo', label = antennae_names[1])\n",
    "plt.plot(sr[12981*2:12981*3], linkbudget[2], 'yo', label = antennae_names[2])\n",
    "plt.plot(sr[12981*3:12981*4], linkbudget[3], 'go', label = antennae_names[3])\n",
    "plt.legend()\n",
    "plt.show()"
   ]
  },
  {
   "cell_type": "code",
   "execution_count": 32,
   "metadata": {},
   "outputs": [
    {
     "data": {
      "image/png": "[encoded data removed]",
      "text/plain": [
       "<Figure size 640x480 with 1 Axes>"
      ]
     },
     "metadata": {},
     "output_type": "display_data"
    }
   ],
   "source": [
    "# plt.plot(antennadf[\"Time (sec)\"])\n",
    "plt.plot(antennadf[\"Time (sec)\"].iloc[:12981], sr[:12981], 'bo')\n",
    "plt.show()"
   ]
  },
  {
   "cell_type": "code",
   "execution_count": null,
   "metadata": {},
   "outputs": [],
   "source": []
  },
  {
   "cell_type": "code",
   "execution_count": null,
   "metadata": {},
   "outputs": [],
   "source": []
  }
 ],
 "metadata": {
  "kernelspec": {
   "display_name": "venv",
   "language": "python",
   "name": "python3"
  },
  "language_info": {
   "codemirror_mode": {
    "name": "ipython",
    "version": 3
   },
   "file_extension": ".py",
   "mimetype": "text/x-python",
   "name": "python",
   "nbconvert_exporter": "python",
   "pygments_lexer": "ipython3",
   "version": "3.12.3"
  }
 },
 "nbformat": 4,
 "nbformat_minor": 2
}
